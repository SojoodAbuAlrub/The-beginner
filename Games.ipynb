{
  "nbformat": 4,
  "nbformat_minor": 0,
  "metadata": {
    "colab": {
      "provenance": [],
      "authorship_tag": "ABX9TyN3mVO86SQulbc76Tz+fcP9",
      "include_colab_link": true
    },
    "kernelspec": {
      "name": "python3",
      "display_name": "Python 3"
    },
    "language_info": {
      "name": "python"
    }
  },
  "cells": [
    {
      "cell_type": "markdown",
      "metadata": {
        "id": "view-in-github",
        "colab_type": "text"
      },
      "source": [
        "<a href=\"https://colab.research.google.com/github/SojoodAbuAlrub/The-beginner/blob/main/Games.ipynb\" target=\"_parent\"><img src=\"https://colab.research.google.com/assets/colab-badge.svg\" alt=\"Open In Colab\"/></a>"
      ]
    },
    {
      "cell_type": "markdown",
      "source": [
        "##If, Random\n",
        "Games"
      ],
      "metadata": {
        "id": "5ylm9IANEqHZ"
      }
    },
    {
      "cell_type": "code",
      "source": [
        "#Head or Tail?\n",
        "\n",
        "import random\n",
        "\n",
        "print(\"welcome to our coins game! 🤑\")\n",
        "print(\"choose the methed you want to play with!\\n 1.the random method \\n 2. the randint method\")\n",
        "choice = input(\"what methode you choose? 1 or 2 \")\n",
        "\n",
        "\n",
        "if choice == \"1\":\n",
        "  random = random.random()\n",
        "  if random_choice > 0.5:\n",
        "    computer_choice = \"head\"\n",
        "  else:\n",
        "    computer_choice = \"tails\"\n",
        "elif choice == \"2\":\n",
        "  random = random.randint (0,1)\n",
        "  if random_choice == 1:\n",
        "      computer_choice = \"head\"\n",
        "  else:\n",
        "      computer_choice = \"tail\"\n",
        "else:\n",
        "  print(\"sorry, this is nor valid! please enter 1\\2 \")\n",
        "\n",
        "guess = input(\"what's your guess? 'head or tails  \")\n",
        "\n",
        "if guess == computer_choice:\n",
        "  print(\"you won!\")\n",
        "else:\n",
        "  print(\"you lost!\")\n"
      ],
      "metadata": {
        "id": "wijCg3hDFCm2"
      },
      "execution_count": null,
      "outputs": []
    },
    {
      "cell_type": "code",
      "source": [
        "print(\"\"\"\n",
        "\n",
        "████████████████████████████\n",
        "█─█─█▄─▄▄─█▄─▄███▄─▄███─▄▄─█\n",
        "█─▄─██─▄█▀██─██▀██─██▀█─██─█\n",
        "▀▄▀▄▀▄▄▄▄▄▀▄▄▄▄▄▀▄▄▄▄▄▀▄▄▄▄▀\n",
        "\n",
        "\"\"\")\n",
        "\n",
        "print(\"hello hello!\")\n",
        "user= input(\"what's your name? \")\n",
        "print(f\"welcome {user} to our Island 💀 !\")\n",
        "print(\"there are two door 🚪 \")\n",
        "door_color = (input(\"which door you will choose? red 🟥 or white ⬜ or black ⬛ ? \")).lower()\n",
        "if door_color == \"red\":\n",
        "  print(\"you choosed the red door 🟥🟥🟥!! it's full of snakes 🐍🐍🐍! \")\n",
        "  print(\"game over!\")\n",
        "elif door_color== \"white\":\n",
        "    print(\"you choosed the white one ⬜⬜⬜ !! it's full with candy  🍭🍭🍬🍬! \")\n",
        "    print(\"you won!\")\n",
        "elif door_color== \"black\":\n",
        "      print(\"you choosed the black door ⬛⬛⬛!! it's full of monsters 👾👾👾! \")\n",
        "      print(\"game over!\")\n",
        "else:\n",
        "  print(f\" oops! {door_color} is not valid! \")"
      ],
      "metadata": {
        "id": "5M3HMD8nFPNn"
      },
      "execution_count": null,
      "outputs": []
    }
  ]
}