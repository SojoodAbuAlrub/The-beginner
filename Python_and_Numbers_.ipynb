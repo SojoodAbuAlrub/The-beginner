{
  "nbformat": 4,
  "nbformat_minor": 0,
  "metadata": {
    "colab": {
      "provenance": [],
      "authorship_tag": "ABX9TyOyAeeN1I1kJI0cdtl5/SdE",
      "include_colab_link": true
    },
    "kernelspec": {
      "name": "python3",
      "display_name": "Python 3"
    },
    "language_info": {
      "name": "python"
    }
  },
  "cells": [
    {
      "cell_type": "markdown",
      "metadata": {
        "id": "view-in-github",
        "colab_type": "text"
      },
      "source": [
        "<a href=\"https://colab.research.google.com/github/SojoodAbuAlrub/The-beginner/blob/main/Python_and_Numbers_.ipynb\" target=\"_parent\"><img src=\"https://colab.research.google.com/assets/colab-badge.svg\" alt=\"Open In Colab\"/></a>"
      ]
    },
    {
      "cell_type": "markdown",
      "source": [
        "##*What maths python would do*\n"
      ],
      "metadata": {
        "id": "6B8BZ0BZAetp"
      }
    },
    {
      "cell_type": "code",
      "source": [
        "#How much will cost painting a room?\n",
        "\n",
        "lenght = input(\"enter the room lenght  \")\n",
        "wedth = input(\"enter the room wedth  \")\n",
        "#convert string into integers\n",
        "lenght = int(lenght)\n",
        "wedth = int ( (wedth))\n",
        "#\n",
        "area = lenght * wedth\n",
        "str_area= str (area)\n",
        "price_1meter = (input (\"how much for a meter?  \"))\n",
        "\n",
        "price = float(price_1meter)\n",
        "price_area = price * area\n",
        "print (f\"the total area is {price_area} \")\n",
        "\n",
        "\n",
        "##lines can be reduced"
      ],
      "metadata": {
        "id": "OgELv4pxAk3v"
      },
      "execution_count": null,
      "outputs": []
    },
    {
      "cell_type": "code",
      "source": [
        "#which year were you borned? accourding the age\n",
        "## reducing lines\n",
        "\n",
        "str_age= int (input(\"whats your age?  \"))\n",
        "print (f\"you were borned on {2024-str_age}\")"
      ],
      "metadata": {
        "id": "qpi9-Y_5Ay7t"
      },
      "execution_count": null,
      "outputs": []
    },
    {
      "cell_type": "code",
      "source": [
        "## converting hours to minutes\n",
        "\n",
        "hours= int(input(\"how much is your hours?  \"))\n",
        "print(f\"your time is  {hours*60} minutes  and {hours*360}  seconds\")"
      ],
      "metadata": {
        "id": "soLQMoavBPJg"
      },
      "execution_count": null,
      "outputs": []
    },
    {
      "cell_type": "code",
      "source": [
        "days = int(input(\"how many day do you want to calculat?  \"))\n",
        "print (f\"These days equals {days//30} months and {days%30} days\")"
      ],
      "metadata": {
        "id": "NjWP6lkjCJ0S"
      },
      "execution_count": null,
      "outputs": []
    }
  ]
}